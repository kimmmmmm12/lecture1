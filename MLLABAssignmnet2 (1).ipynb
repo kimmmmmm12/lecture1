{
  "nbformat": 4,
  "nbformat_minor": 0,
  "metadata": {
    "colab": {
      "provenance": []
    },
    "kernelspec": {
      "name": "python3",
      "display_name": "Python 3"
    },
    "language_info": {
      "name": "python"
    }
  },
  "cells": [
    {
      "cell_type": "markdown",
      "source": [
        "# 1.) Import the data from CCLE into a new Google Colab file"
      ],
      "metadata": {
        "id": "7ywSRtNI4s5h"
      }
    },
    {
      "cell_type": "code",
      "execution_count": 75,
      "metadata": {
        "id": "nsG1QV154GYZ"
      },
      "outputs": [],
      "source": [
        "import pandas as pd\n",
        "from google.colab import drive\n",
        "import matplotlib.pyplot as plt"
      ]
    },
    {
      "cell_type": "code",
      "source": [
        "drive.mount('/content/gdrive/', force_remount = True)"
      ],
      "metadata": {
        "id": "Iku0T8Ou4Lcu",
        "colab": {
          "base_uri": "https://localhost:8080/",
          "height": 0
        },
        "outputId": "5450df1a-1a74-4296-ebea-392387741250"
      },
      "execution_count": 76,
      "outputs": [
        {
          "output_type": "stream",
          "name": "stdout",
          "text": [
            "Mounted at /content/gdrive/\n"
          ]
        }
      ]
    },
    {
      "cell_type": "code",
      "source": [
        "df = pd.read_csv('/content/gdrive/MyDrive/Colab Notebooks/insurance.csv')\n"
      ],
      "metadata": {
        "id": "KJQfo8mz43Kz"
      },
      "execution_count": 78,
      "outputs": []
    },
    {
      "cell_type": "code",
      "source": [],
      "metadata": {
        "id": "IytozxRbnapu"
      },
      "execution_count": null,
      "outputs": []
    },
    {
      "cell_type": "code",
      "source": [
        "df.loc[df['sex'] == 'female','sex'] = 1.\n",
        "df.loc[df['sex'] == 'male','sex'] = 0.\n",
        "\n",
        "df['region1'] = df['region']\n",
        "df['region2'] = df['region']\n",
        "df['region3'] = df['region']\n",
        "\n",
        "df.loc[df['region1'] == 'southwest','region1'] = 1\n",
        "df.loc[df['region1'] == 'southeast','region1'] = 0\n",
        "df.loc[df['region1'] == 'northwest','region1'] = 0\n",
        "df.loc[df['region1'] == 'northeast','region1'] = 0\n",
        "\n",
        "df.loc[df['region2'] == 'southwest','region2'] = 0\n",
        "df.loc[df['region2'] == 'southeast','region2'] = 1\n",
        "df.loc[df['region2'] == 'northwest','region2'] = 0\n",
        "df.loc[df['region2'] == 'northeast','region2'] = 0\n",
        "\n",
        "df.loc[df['region3'] == 'southwest','region3'] = 0\n",
        "df.loc[df['region3'] == 'southeast','region3'] = 0\n",
        "df.loc[df['region3'] == 'northwest','region3'] = 1\n",
        "df.loc[df['region3'] == 'northeast','region3'] = 0\n",
        "\n",
        "\n",
        "df.loc[df['smoker'] == 'yes','smoker'] = 1.\n",
        "df.loc[df['smoker'] == 'no','smoker'] = 0.\n"
      ],
      "metadata": {
        "id": "N9Y_AoeC43Ub"
      },
      "execution_count": 79,
      "outputs": []
    },
    {
      "cell_type": "code",
      "source": [
        "df.head()\n"
      ],
      "metadata": {
        "id": "JvktLOSE5cfm",
        "colab": {
          "base_uri": "https://localhost:8080/",
          "height": 206
        },
        "outputId": "3ef7c4a9-b796-4738-9e82-d420e4bd2b90"
      },
      "execution_count": 80,
      "outputs": [
        {
          "output_type": "execute_result",
          "data": {
            "text/plain": [
              "   age  sex     bmi  children smoker     region      charges region1 region2  \\\n",
              "0   19  1.0  27.900         0    1.0  southwest  16884.92400       1       0   \n",
              "1   18  0.0  33.770         1    0.0  southeast   1725.55230       0       1   \n",
              "2   28  0.0  33.000         3    0.0  southeast   4449.46200       0       1   \n",
              "3   33  0.0  22.705         0    0.0  northwest  21984.47061       0       0   \n",
              "4   32  0.0  28.880         0    0.0  northwest   3866.85520       0       0   \n",
              "\n",
              "  region3  \n",
              "0       0  \n",
              "1       0  \n",
              "2       0  \n",
              "3       1  \n",
              "4       1  "
            ],
            "text/html": [
              "\n",
              "  <div id=\"df-2b009dde-97d6-4cee-b376-39b714684912\">\n",
              "    <div class=\"colab-df-container\">\n",
              "      <div>\n",
              "<style scoped>\n",
              "    .dataframe tbody tr th:only-of-type {\n",
              "        vertical-align: middle;\n",
              "    }\n",
              "\n",
              "    .dataframe tbody tr th {\n",
              "        vertical-align: top;\n",
              "    }\n",
              "\n",
              "    .dataframe thead th {\n",
              "        text-align: right;\n",
              "    }\n",
              "</style>\n",
              "<table border=\"1\" class=\"dataframe\">\n",
              "  <thead>\n",
              "    <tr style=\"text-align: right;\">\n",
              "      <th></th>\n",
              "      <th>age</th>\n",
              "      <th>sex</th>\n",
              "      <th>bmi</th>\n",
              "      <th>children</th>\n",
              "      <th>smoker</th>\n",
              "      <th>region</th>\n",
              "      <th>charges</th>\n",
              "      <th>region1</th>\n",
              "      <th>region2</th>\n",
              "      <th>region3</th>\n",
              "    </tr>\n",
              "  </thead>\n",
              "  <tbody>\n",
              "    <tr>\n",
              "      <th>0</th>\n",
              "      <td>19</td>\n",
              "      <td>1.0</td>\n",
              "      <td>27.900</td>\n",
              "      <td>0</td>\n",
              "      <td>1.0</td>\n",
              "      <td>southwest</td>\n",
              "      <td>16884.92400</td>\n",
              "      <td>1</td>\n",
              "      <td>0</td>\n",
              "      <td>0</td>\n",
              "    </tr>\n",
              "    <tr>\n",
              "      <th>1</th>\n",
              "      <td>18</td>\n",
              "      <td>0.0</td>\n",
              "      <td>33.770</td>\n",
              "      <td>1</td>\n",
              "      <td>0.0</td>\n",
              "      <td>southeast</td>\n",
              "      <td>1725.55230</td>\n",
              "      <td>0</td>\n",
              "      <td>1</td>\n",
              "      <td>0</td>\n",
              "    </tr>\n",
              "    <tr>\n",
              "      <th>2</th>\n",
              "      <td>28</td>\n",
              "      <td>0.0</td>\n",
              "      <td>33.000</td>\n",
              "      <td>3</td>\n",
              "      <td>0.0</td>\n",
              "      <td>southeast</td>\n",
              "      <td>4449.46200</td>\n",
              "      <td>0</td>\n",
              "      <td>1</td>\n",
              "      <td>0</td>\n",
              "    </tr>\n",
              "    <tr>\n",
              "      <th>3</th>\n",
              "      <td>33</td>\n",
              "      <td>0.0</td>\n",
              "      <td>22.705</td>\n",
              "      <td>0</td>\n",
              "      <td>0.0</td>\n",
              "      <td>northwest</td>\n",
              "      <td>21984.47061</td>\n",
              "      <td>0</td>\n",
              "      <td>0</td>\n",
              "      <td>1</td>\n",
              "    </tr>\n",
              "    <tr>\n",
              "      <th>4</th>\n",
              "      <td>32</td>\n",
              "      <td>0.0</td>\n",
              "      <td>28.880</td>\n",
              "      <td>0</td>\n",
              "      <td>0.0</td>\n",
              "      <td>northwest</td>\n",
              "      <td>3866.85520</td>\n",
              "      <td>0</td>\n",
              "      <td>0</td>\n",
              "      <td>1</td>\n",
              "    </tr>\n",
              "  </tbody>\n",
              "</table>\n",
              "</div>\n",
              "      <button class=\"colab-df-convert\" onclick=\"convertToInteractive('df-2b009dde-97d6-4cee-b376-39b714684912')\"\n",
              "              title=\"Convert this dataframe to an interactive table.\"\n",
              "              style=\"display:none;\">\n",
              "        \n",
              "  <svg xmlns=\"http://www.w3.org/2000/svg\" height=\"24px\"viewBox=\"0 0 24 24\"\n",
              "       width=\"24px\">\n",
              "    <path d=\"M0 0h24v24H0V0z\" fill=\"none\"/>\n",
              "    <path d=\"M18.56 5.44l.94 2.06.94-2.06 2.06-.94-2.06-.94-.94-2.06-.94 2.06-2.06.94zm-11 1L8.5 8.5l.94-2.06 2.06-.94-2.06-.94L8.5 2.5l-.94 2.06-2.06.94zm10 10l.94 2.06.94-2.06 2.06-.94-2.06-.94-.94-2.06-.94 2.06-2.06.94z\"/><path d=\"M17.41 7.96l-1.37-1.37c-.4-.4-.92-.59-1.43-.59-.52 0-1.04.2-1.43.59L10.3 9.45l-7.72 7.72c-.78.78-.78 2.05 0 2.83L4 21.41c.39.39.9.59 1.41.59.51 0 1.02-.2 1.41-.59l7.78-7.78 2.81-2.81c.8-.78.8-2.07 0-2.86zM5.41 20L4 18.59l7.72-7.72 1.47 1.35L5.41 20z\"/>\n",
              "  </svg>\n",
              "      </button>\n",
              "      \n",
              "  <style>\n",
              "    .colab-df-container {\n",
              "      display:flex;\n",
              "      flex-wrap:wrap;\n",
              "      gap: 12px;\n",
              "    }\n",
              "\n",
              "    .colab-df-convert {\n",
              "      background-color: #E8F0FE;\n",
              "      border: none;\n",
              "      border-radius: 50%;\n",
              "      cursor: pointer;\n",
              "      display: none;\n",
              "      fill: #1967D2;\n",
              "      height: 32px;\n",
              "      padding: 0 0 0 0;\n",
              "      width: 32px;\n",
              "    }\n",
              "\n",
              "    .colab-df-convert:hover {\n",
              "      background-color: #E2EBFA;\n",
              "      box-shadow: 0px 1px 2px rgba(60, 64, 67, 0.3), 0px 1px 3px 1px rgba(60, 64, 67, 0.15);\n",
              "      fill: #174EA6;\n",
              "    }\n",
              "\n",
              "    [theme=dark] .colab-df-convert {\n",
              "      background-color: #3B4455;\n",
              "      fill: #D2E3FC;\n",
              "    }\n",
              "\n",
              "    [theme=dark] .colab-df-convert:hover {\n",
              "      background-color: #434B5C;\n",
              "      box-shadow: 0px 1px 3px 1px rgba(0, 0, 0, 0.15);\n",
              "      filter: drop-shadow(0px 1px 2px rgba(0, 0, 0, 0.3));\n",
              "      fill: #FFFFFF;\n",
              "    }\n",
              "  </style>\n",
              "\n",
              "      <script>\n",
              "        const buttonEl =\n",
              "          document.querySelector('#df-2b009dde-97d6-4cee-b376-39b714684912 button.colab-df-convert');\n",
              "        buttonEl.style.display =\n",
              "          google.colab.kernel.accessAllowed ? 'block' : 'none';\n",
              "\n",
              "        async function convertToInteractive(key) {\n",
              "          const element = document.querySelector('#df-2b009dde-97d6-4cee-b376-39b714684912');\n",
              "          const dataTable =\n",
              "            await google.colab.kernel.invokeFunction('convertToInteractive',\n",
              "                                                     [key], {});\n",
              "          if (!dataTable) return;\n",
              "\n",
              "          const docLinkHtml = 'Like what you see? Visit the ' +\n",
              "            '<a target=\"_blank\" href=https://colab.research.google.com/notebooks/data_table.ipynb>data table notebook</a>'\n",
              "            + ' to learn more about interactive tables.';\n",
              "          element.innerHTML = '';\n",
              "          dataTable['output_type'] = 'display_data';\n",
              "          await google.colab.output.renderOutput(dataTable, element);\n",
              "          const docLink = document.createElement('div');\n",
              "          docLink.innerHTML = docLinkHtml;\n",
              "          element.appendChild(docLink);\n",
              "        }\n",
              "      </script>\n",
              "    </div>\n",
              "  </div>\n",
              "  "
            ]
          },
          "metadata": {},
          "execution_count": 80
        }
      ]
    },
    {
      "cell_type": "markdown",
      "source": [
        "# 2.) Split the data into 80/20, in/out sample"
      ],
      "metadata": {
        "id": "b6dsh9sc43jg"
      }
    },
    {
      "cell_type": "code",
      "source": [
        "import numpy as np"
      ],
      "metadata": {
        "id": "0Dj2Fopx47jY"
      },
      "execution_count": 66,
      "outputs": []
    },
    {
      "cell_type": "code",
      "source": [
        "df_subset = df[['age','sex','bmi','children','smoker','region1','region2','region3']]\n",
        "data = np.array(df_subset)\n",
        "target = np.array(df.iloc[:,-4])"
      ],
      "metadata": {
        "id": "uWluG5cuvMXN"
      },
      "execution_count": 83,
      "outputs": []
    },
    {
      "cell_type": "code",
      "source": [
        "data"
      ],
      "metadata": {
        "id": "EU2j_fos48Uz",
        "colab": {
          "base_uri": "https://localhost:8080/",
          "height": 0
        },
        "outputId": "d03f9319-4402-4a87-8fda-fa2be9f88d9c"
      },
      "execution_count": 84,
      "outputs": [
        {
          "output_type": "execute_result",
          "data": {
            "text/plain": [
              "array([[19, 1.0, 27.9, ..., 1, 0, 0],\n",
              "       [18, 0.0, 33.77, ..., 0, 1, 0],\n",
              "       [28, 0.0, 33.0, ..., 0, 1, 0],\n",
              "       ...,\n",
              "       [18, 1.0, 36.85, ..., 0, 1, 0],\n",
              "       [21, 1.0, 25.8, ..., 1, 0, 0],\n",
              "       [61, 1.0, 29.07, ..., 0, 0, 1]], dtype=object)"
            ]
          },
          "metadata": {},
          "execution_count": 84
        }
      ]
    },
    {
      "cell_type": "code",
      "source": [
        "target"
      ],
      "metadata": {
        "colab": {
          "base_uri": "https://localhost:8080/",
          "height": 0
        },
        "id": "_FffnQeftmxf",
        "outputId": "0bcce3c6-7213-49d5-fcf0-56ae4fa0540d"
      },
      "execution_count": 85,
      "outputs": [
        {
          "output_type": "execute_result",
          "data": {
            "text/plain": [
              "array([16884.924 ,  1725.5523,  4449.462 , ...,  1629.8335,  2007.945 ,\n",
              "       29141.3603])"
            ]
          },
          "metadata": {},
          "execution_count": 85
        }
      ]
    },
    {
      "cell_type": "code",
      "source": [],
      "metadata": {
        "id": "4zdi7HCb48X3"
      },
      "execution_count": 84,
      "outputs": []
    },
    {
      "cell_type": "code",
      "source": [
        "cut = int((len(data)*.8)//1) #700"
      ],
      "metadata": {
        "id": "O-jKV7ahk_7M"
      },
      "execution_count": 86,
      "outputs": []
    },
    {
      "cell_type": "code",
      "source": [
        "in_data = data [:cut]\n",
        "out_data = data[cut:]\n",
        "in_target = target[:cut]\n",
        "out_target = target[cut:]"
      ],
      "metadata": {
        "id": "dRvo9DE0lXZL"
      },
      "execution_count": 88,
      "outputs": []
    },
    {
      "cell_type": "code",
      "source": [],
      "metadata": {
        "id": "uH0WGMPko12g"
      },
      "execution_count": null,
      "outputs": []
    },
    {
      "cell_type": "markdown",
      "source": [
        "# 3.) Normalize the Data"
      ],
      "metadata": {
        "id": "hnZPWyYg48y9"
      }
    },
    {
      "cell_type": "code",
      "source": [
        "from sklearn import preprocessing"
      ],
      "metadata": {
        "id": "eq2VCgOk4-2u"
      },
      "execution_count": 89,
      "outputs": []
    },
    {
      "cell_type": "code",
      "source": [
        "scaler = preprocessing.StandardScaler().fit(in_data)"
      ],
      "metadata": {
        "id": "ye4jMpQt4_nP"
      },
      "execution_count": 90,
      "outputs": []
    },
    {
      "cell_type": "code",
      "source": [
        "in_data_scale = scaler.transform(in_data)\n",
        "\n",
        "out_data_scale = scaler.transform(out_data)"
      ],
      "metadata": {
        "id": "3J6q24xM4_qQ"
      },
      "execution_count": 91,
      "outputs": []
    },
    {
      "cell_type": "code",
      "source": [
        "in_data"
      ],
      "metadata": {
        "id": "hCJPyHrA4_s3",
        "colab": {
          "base_uri": "https://localhost:8080/",
          "height": 0
        },
        "outputId": "d6105636-ca03-4d58-ec15-c2fb3646bad8"
      },
      "execution_count": 92,
      "outputs": [
        {
          "output_type": "execute_result",
          "data": {
            "text/plain": [
              "array([[19, 1.0, 27.9, ..., 1, 0, 0],\n",
              "       [18, 0.0, 33.77, ..., 0, 1, 0],\n",
              "       [28, 0.0, 33.0, ..., 0, 1, 0],\n",
              "       ...,\n",
              "       [39, 0.0, 42.655, ..., 0, 0, 0],\n",
              "       [63, 0.0, 21.66, ..., 0, 0, 1],\n",
              "       [54, 1.0, 31.9, ..., 0, 1, 0]], dtype=object)"
            ]
          },
          "metadata": {},
          "execution_count": 92
        }
      ]
    },
    {
      "cell_type": "code",
      "source": [
        "in_data_scale"
      ],
      "metadata": {
        "colab": {
          "base_uri": "https://localhost:8080/",
          "height": 0
        },
        "id": "GT_0tHAjp3TE",
        "outputId": "e825e013-2ca8-4657-b44f-e5cf9c7da96c"
      },
      "execution_count": 93,
      "outputs": [
        {
          "output_type": "execute_result",
          "data": {
            "text/plain": [
              "array([[-1.45390122,  1.02077653, -0.47403991, ...,  1.76504522,\n",
              "        -0.6155209 , -0.55791981],\n",
              "       [-1.52464584, -0.97964634,  0.4911621 , ..., -0.56655772,\n",
              "         1.6246402 , -0.55791981],\n",
              "       [-0.81719959, -0.97964634,  0.36455128, ..., -0.56655772,\n",
              "         1.6246402 , -0.55791981],\n",
              "       ...,\n",
              "       [-0.03900872, -0.97964634,  1.95211949, ..., -0.56655772,\n",
              "        -0.6155209 , -0.55791981],\n",
              "       [ 1.65886228, -0.97964634, -1.50008089, ..., -0.56655772,\n",
              "        -0.6155209 ,  1.79237229],\n",
              "       [ 1.02216066,  1.02077653,  0.18367867, ..., -0.56655772,\n",
              "         1.6246402 , -0.55791981]])"
            ]
          },
          "metadata": {},
          "execution_count": 93
        }
      ]
    },
    {
      "cell_type": "markdown",
      "source": [
        "# 4.) Get lambda from Lasso cross validation"
      ],
      "metadata": {
        "id": "8WC0zdBU5AIQ"
      }
    },
    {
      "cell_type": "code",
      "source": [
        "from sklearn.linear_model import LassoCV"
      ],
      "metadata": {
        "id": "IAV53xNW5B-4"
      },
      "execution_count": 94,
      "outputs": []
    },
    {
      "cell_type": "code",
      "source": [
        "modCV = LassoCV().fit(in_data_scale, in_target)"
      ],
      "metadata": {
        "id": "ksZzsNKL5Ca2"
      },
      "execution_count": 95,
      "outputs": []
    },
    {
      "cell_type": "code",
      "source": [
        "a = modCV.alpha_"
      ],
      "metadata": {
        "id": "jWRcnpVp5Cdb"
      },
      "execution_count": 96,
      "outputs": []
    },
    {
      "cell_type": "code",
      "source": [
        "a"
      ],
      "metadata": {
        "id": "_v8KqWiq5CgU",
        "colab": {
          "base_uri": "https://localhost:8080/",
          "height": 0
        },
        "outputId": "6917c4e8-7f06-412c-a7b4-109028b4d3bf"
      },
      "execution_count": 97,
      "outputs": [
        {
          "output_type": "execute_result",
          "data": {
            "text/plain": [
              "115.9799859390741"
            ]
          },
          "metadata": {},
          "execution_count": 97
        }
      ]
    },
    {
      "cell_type": "markdown",
      "source": [
        "# 5.) Run a lambda regression with that Lambda"
      ],
      "metadata": {
        "id": "_--IC6M65DAG"
      }
    },
    {
      "cell_type": "code",
      "source": [
        "from sklearn.linear_model import Lasso\n",
        "mod1 = Lasso(alpha = a).fit(in_data_scale, in_target) \n",
        "mod1.predict(np.array(in_data_scale))\n",
        "mod1.coef_"
      ],
      "metadata": {
        "id": "gkdZGF-45EvR",
        "colab": {
          "base_uri": "https://localhost:8080/",
          "height": 0
        },
        "outputId": "6c418b26-66cb-4503-be32-30538e48a606"
      },
      "execution_count": 99,
      "outputs": [
        {
          "output_type": "execute_result",
          "data": {
            "text/plain": [
              "array([3580.35805206,    0.        , 1897.42890992,  415.06890389,\n",
              "       9345.10115447, -238.7634887 , -158.68185954,   -0.        ])"
            ]
          },
          "metadata": {},
          "execution_count": 99
        }
      ]
    },
    {
      "cell_type": "code",
      "source": [],
      "metadata": {
        "id": "RSE7QkQt5FK4"
      },
      "execution_count": null,
      "outputs": []
    },
    {
      "cell_type": "code",
      "source": [],
      "metadata": {
        "id": "4sUySoS95FN_"
      },
      "execution_count": null,
      "outputs": []
    },
    {
      "cell_type": "markdown",
      "source": [
        "# 6.) Visualize the coefficients "
      ],
      "metadata": {
        "id": "bIrU3G0V5Fkd"
      }
    },
    {
      "cell_type": "code",
      "source": [
        "x_axis = (['age','sex','bmi','children', 'smoker','region1','region2','region3'])\n",
        "y_axis = mod1.coef_\n",
        "plt.bar(x_axis, y_axis)\n",
        "plt.title('coefficient plot')\n",
        "plt.xlabel('coefficient')\n",
        "plt.ylabel('value')\n",
        "plt.show()"
      ],
      "metadata": {
        "id": "yHMKovxw5JyP",
        "colab": {
          "base_uri": "https://localhost:8080/",
          "height": 295
        },
        "outputId": "d764b24f-c27e-4cd1-aecf-a1ed81a1a9c4"
      },
      "execution_count": 100,
      "outputs": [
        {
          "output_type": "display_data",
          "data": {
            "text/plain": [
              "<Figure size 432x288 with 1 Axes>"
            ],
            "image/png": "[encoded data removed]"
          },
          "metadata": {
            "needs_background": "light"
          }
        }
      ]
    },
    {
      "cell_type": "code",
      "source": [],
      "metadata": {
        "id": "hJ6_uMFn5Rmt"
      },
      "execution_count": null,
      "outputs": []
    },
    {
      "cell_type": "code",
      "source": [],
      "metadata": {
        "id": "f4fr1Or_5RpT"
      },
      "execution_count": null,
      "outputs": []
    },
    {
      "cell_type": "markdown",
      "source": [
        "# 7.) Interpret the coefficients"
      ],
      "metadata": {
        "id": "_vl1fi9m5Rzf"
      }
    },
    {
      "cell_type": "markdown",
      "source": [
        "From the previous graphs，we can see that \n",
        "（age）：age have influence on the insurance, elderly people tende to spend more money on their insurance. \n",
        "（sex）：sex has nearly no influence on insurance spending.\n",
        "（bmi）：bmi also have high influence, people have higher bmi index tend to buy higher insurance\n",
        "（children）：people with children spend more on insurance.\n",
        "（Smokers）：smokers are have the highest contribution to spend on health insurance.\n",
        "（region）：people in the northeast  region (base group) are more likely to spend on health insurance.\n",
        "\n"
      ],
      "metadata": {
        "id": "x9rZteEh4TIz"
      }
    },
    {
      "cell_type": "code",
      "source": [],
      "metadata": {
        "id": "oJ3R4lO45T66"
      },
      "execution_count": null,
      "outputs": []
    },
    {
      "cell_type": "code",
      "source": [],
      "metadata": {
        "id": "UIVF6U1S5T9e"
      },
      "execution_count": null,
      "outputs": []
    },
    {
      "cell_type": "markdown",
      "source": [
        "# 8.) Compare in and out of sample MSE’s"
      ],
      "metadata": {
        "id": "WpR8BVH05UFU"
      }
    },
    {
      "cell_type": "code",
      "source": [
        "from sklearn.metrics import mean_squared_error\n",
        "in_y_pred = mod1.predict(np.array(in_data_scale))\n",
        "out_y_pred = mod1.predict(np.array(out_data_scale))\n",
        "out_sample_mse = mean_squared_error(out_y_pred,out_target)\n",
        "in_sample_mse = mean_squared_error(in_y_pred,in_target)"
      ],
      "metadata": {
        "id": "8GUc8LoE5Vym"
      },
      "execution_count": 101,
      "outputs": []
    },
    {
      "cell_type": "code",
      "source": [
        "out_sample_mse"
      ],
      "metadata": {
        "id": "1m8z_hPn5WvY",
        "colab": {
          "base_uri": "https://localhost:8080/",
          "height": 0
        },
        "outputId": "03d36f97-5e71-4cc6-abdc-05ae2a19099b"
      },
      "execution_count": 102,
      "outputs": [
        {
          "output_type": "execute_result",
          "data": {
            "text/plain": [
              "37152269.57019608"
            ]
          },
          "metadata": {},
          "execution_count": 102
        }
      ]
    },
    {
      "cell_type": "code",
      "source": [
        "in_sample_mse"
      ],
      "metadata": {
        "colab": {
          "base_uri": "https://localhost:8080/",
          "height": 0
        },
        "id": "yP9mLjnv2HMa",
        "outputId": "be885731-055b-4998-9760-f18ac68f1653"
      },
      "execution_count": 104,
      "outputs": [
        {
          "output_type": "execute_result",
          "data": {
            "text/plain": [
              "36521811.462161295"
            ]
          },
          "metadata": {},
          "execution_count": 104
        }
      ]
    },
    {
      "cell_type": "code",
      "source": [
        "in_y_pred = mod1.predict(np.array(in_data_scale))\n",
        "out_y_pred = mod1.predict(np.array(out_data_scale))"
      ],
      "metadata": {
        "id": "snJ01GeH28oI"
      },
      "execution_count": 105,
      "outputs": []
    },
    {
      "cell_type": "code",
      "source": [
        "plt.bar(['in', 'out'], [in_sample_mse, out_sample_mse])\n",
        "plt.xlabel('MSE_Comparison')\n",
        "plt.ylabel('Value')\n",
        "plt.show()"
      ],
      "metadata": {
        "colab": {
          "base_uri": "https://localhost:8080/",
          "height": 291
        },
        "id": "kf52QDgt3ASd",
        "outputId": "da679c90-fefa-4d80-cd4d-a9c5d6cf06fe"
      },
      "execution_count": 106,
      "outputs": [
        {
          "output_type": "display_data",
          "data": {
            "text/plain": [
              "<Figure size 432x288 with 1 Axes>"
            ],
            "image/png": "[encoded data removed]"
          },
          "metadata": {
            "needs_background": "light"
          }
        }
      ]
    },
    {
      "cell_type": "code",
      "source": [],
      "metadata": {
        "id": "3QTLtp7w3FtH"
      },
      "execution_count": null,
      "outputs": []
    }
  ]
}